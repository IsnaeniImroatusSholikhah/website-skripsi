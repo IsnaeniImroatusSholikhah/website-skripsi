{
  "nbformat": 4,
  "nbformat_minor": 0,
  "metadata": {
    "colab": {
      "private_outputs": true,
      "provenance": []
    },
    "kernelspec": {
      "name": "python3",
      "display_name": "Python 3"
    },
    "language_info": {
      "name": "python"
    }
  },
  "cells": [
    {
      "cell_type": "code",
      "source": [
        "import pandas as pd\n",
        "\n",
        "# Path ke file CSV di Google Drive\n",
        "path_to_csv = '/content/drive/MyDrive/Bismillah File All SKRIPSI/fraud data kaggle/data_with_fraud_flag.csv'\n",
        "\n",
        "# Membaca dataset dari file CSV\n",
        "data = pd.read_csv(path_to_csv)\n",
        "\n",
        "# Mencetak nama-nama kolom\n",
        "print(data.columns)\n",
        "\n",
        "# Menampilkan 5 data awal dari dataset\n",
        "print(data.head())"
      ],
      "metadata": {
        "id": "m8le5kLxjXgh"
      },
      "execution_count": null,
      "outputs": []
    },
    {
      "cell_type": "code",
      "source": [
        "import pandas as pd\n",
        "\n",
        "# Path ke file CSV di Google Drive\n",
        "path_to_csv = '/content/drive/MyDrive/Bismillah File All SKRIPSI/fraud data kaggle/data_with_fraud_flag.csv'\n",
        "\n",
        "# Membaca dataset dari file CSV\n",
        "data = pd.read_csv(path_to_csv)\n",
        "\n",
        "# Mencetak nama-nama kolom\n",
        "print(\"Nama-nama kolom:\")\n",
        "print(data.columns)\n",
        "\n",
        "# Menampilkan 5 data awal dari dataset\n",
        "print(\"\\n5 data awal dari dataset:\")\n",
        "print(data.head())\n",
        "\n",
        "# Langkah 1: Identifikasi nilai-nilai yang hilang/kosong\n",
        "missing_values = data.isnull().sum()\n",
        "\n",
        "# Tampilkan jumlah nilai-nilai yang hilang dalam setiap kolom\n",
        "print(\"\\nJumlah nilai-nilai yang hilang dalam setiap kolom:\")\n",
        "print(missing_values)\n",
        "\n",
        "# Langkah 2: Penanganan nilai-nilai yang hilang\n",
        "# Misalnya, kita akan mengisi nilai-nilai yang hilang dalam kolom-kolom numerik dengan median\n",
        "numerical_columns = data.select_dtypes(include=['number']).columns\n",
        "\n",
        "for column in numerical_columns:\n",
        "    median_value = data[column].median()\n",
        "    data[column].fillna(median_value, inplace=True)\n",
        "\n",
        "# Validasi hasil\n",
        "missing_values_after_handling = data.isnull().sum()\n",
        "print(\"\\nJumlah nilai-nilai yang hilang setelah penanganan:\")\n",
        "print(missing_values_after_handling)\n",
        "\n",
        "# Simpan dataset yang telah diisi\n",
        "data.to_csv('/content/drive/MyDrive/Bismillah File All SKRIPSI/fraud data kaggle/data_setelah_pengisian.csv', index=False)\n"
      ],
      "metadata": {
        "id": "gv1hVGh0k2ux"
      },
      "execution_count": null,
      "outputs": []
    },
    {
      "cell_type": "code",
      "source": [
        "import pandas as pd\n",
        "\n",
        "# Path ke file CSV di Google Drive\n",
        "path_to_csv = '/content/drive/MyDrive/Bismillah File All SKRIPSI/fraud data kaggle/data_setelah_pengisian.csv'\n",
        "\n",
        "# Membaca dataset dari file CSV\n",
        "data_setelah_pengisian = pd.read_csv(path_to_csv)\n",
        "\n",
        "# Menampilkan 5 data awal dari dataset yang telah diisi\n",
        "print(\"5 data awal dari dataset yang telah diisi:\")\n",
        "print(data_setelah_pengisian.head())\n"
      ],
      "metadata": {
        "id": "vAm4YJ_OlKem"
      },
      "execution_count": null,
      "outputs": []
    },
    {
      "cell_type": "code",
      "source": [
        "import pandas as pd\n",
        "\n",
        "# Path ke file CSV yang telah diisi\n",
        "path_to_csv = '/content/drive/MyDrive/Bismillah File All SKRIPSI/fraud data kaggle/data_with_custom_fraud_flag.csv'\n",
        "\n",
        "# Membaca dataset dari file CSV\n",
        "data = pd.read_csv(path_to_csv)\n",
        "\n",
        "# Menentukan kondisi untuk menandai transaksi sebagai penipuan (1) atau non-penipuan (0)\n",
        "# Contoh: Tandai transaksi sebagai penipuan jika saldo kartu kredit rendah dan frekuensi pembelian tinggi\n",
        "low_balance_threshold = 1000  # Contoh ambang batas saldo kartu kredit rendah\n",
        "high_purchase_frequency_threshold = 0.5  # Contoh ambang batas frekuensi pembelian tinggi\n",
        "\n",
        "# Buat kolom \"FRAUD_FLAG\" berdasarkan kondisi di atas\n",
        "data['FRAUD_FLAG'] = 0  # Inisialisasi semua transaksi sebagai non-penipuan\n",
        "\n",
        "# Tandai transaksi sebagai penipuan jika memenuhi kondisi\n",
        "data.loc[(data['BALANCE'] < low_balance_threshold) & (data['PURCHASES_FREQUENCY'] > high_purchase_frequency_threshold), 'FRAUD_FLAG'] = 1\n",
        "\n",
        "# Menampilkan 5 data awal dari dataset dengan kolom \"FRAUD_FLAG\" yang baru\n",
        "print(\"20 data awal dengan kolom 'FRAUD_FLAG':\")\n",
        "print(data.head(20))\n"
      ],
      "metadata": {
        "id": "Te8t28oMl25H"
      },
      "execution_count": null,
      "outputs": []
    },
    {
      "cell_type": "code",
      "source": [
        "import pandas as pd\n",
        "import matplotlib.pyplot as plt\n",
        "import seaborn as sns\n",
        "from sklearn.model_selection import train_test_split\n",
        "from sklearn.svm import SVC\n",
        "from imblearn.over_sampling import SMOTE\n",
        "from sklearn.metrics import accuracy_score, precision_score, recall_score, f1_score, roc_auc_score, confusion_matrix, roc_curve\n",
        "from sklearn.impute import SimpleImputer\n",
        "import pickle\n",
        "\n",
        "# Baca data dari file CSV\n",
        "data = pd.read_csv('/content/drive/MyDrive/Bismillah File All SKRIPSI/fraud data kaggle/data_with_custom_fraud_flag.csv')\n",
        "\n",
        "# Handling missing values\n",
        "imputer = SimpleImputer(strategy='mean')\n",
        "data.fillna(data.mean(), inplace=True)\n",
        "\n",
        "# Menampilkan informasi dasar tentang dataset\n",
        "print(\"Jumlah baris dan kolom:\", data.shape)\n",
        "print(data.head())\n",
        "\n",
        "# Visualisasi Data - Bar Chart\n",
        "sns.countplot(x='FRAUD_FLAG', data=data)\n",
        "plt.title('Distribusi Kelas Fraud dan Non-Fraud')\n",
        "plt.show()\n",
        "\n",
        "# Pemodelan\n",
        "X = data.drop(['CUST_ID', 'FRAUD_FLAG'], axis=1)\n",
        "y = data['FRAUD_FLAG']\n",
        "\n",
        "# Memisahkan data pelatihan dan pengujian\n",
        "X_train, X_test, y_train, y_test = train_test_split(X, y, test_size=0.2, random_state=42)\n",
        "\n",
        "# Menangani class imbalance dengan SMOTE\n",
        "smote = SMOTE(random_state=42)\n",
        "X_train_resampled, y_train_resampled = smote.fit_resample(X_train, y_train)\n",
        "\n",
        "# Melatih model SVM\n",
        "model = SVC(probability=True)\n",
        "model.fit(X_train_resampled, y_train_resampled)\n",
        "\n",
        "# Evaluasi Model\n",
        "y_pred = model.predict(X_test)\n",
        "y_prob = model.predict_proba(X_test)[:, 1]\n",
        "\n",
        "accuracy = accuracy_score(y_test, y_pred)\n",
        "precision = precision_score(y_test, y_pred)\n",
        "recall = recall_score(y_test, y_pred)\n",
        "f1 = f1_score(y_test, y_pred)\n",
        "roc_auc = roc_auc_score(y_test, y_prob)\n",
        "\n",
        "print(\"Akurasi:\", accuracy)\n",
        "print(\"Presisi:\", precision)\n",
        "print(\"Recall:\", recall)\n",
        "print(\"F1-Score:\", f1)\n",
        "print(\"ROC AUC Score:\", roc_auc)\n",
        "\n",
        "# Confusion Matrix\n",
        "cm = confusion_matrix(y_test, y_pred)\n",
        "print(\"Confusion Matrix:\")\n",
        "print(cm)\n",
        "\n",
        "# ROC Curve\n",
        "fpr, tpr, thresholds = roc_curve(y_test, y_prob)\n",
        "plt.plot(fpr, tpr, label='ROC Curve (area = {:.2f})'.format(roc_auc))\n",
        "plt.plot([0, 1], [0, 1], 'k--')\n",
        "plt.xlabel('False Positive Rate')\n",
        "plt.ylabel('True Positive Rate')\n",
        "plt.title('ROC Curve')\n",
        "plt.legend(loc='lower right')\n",
        "plt.show()\n",
        "\n",
        "# Menyimpan model ke file\n",
        "with open('credit_card_fraud_detection_model123.pkl', 'wb') as f:\n",
        "    pickle.dump(model, f)\n"
      ],
      "metadata": {
        "id": "r_h52e4DVqZ2"
      },
      "execution_count": null,
      "outputs": []
    },
    {
      "cell_type": "code",
      "source": [
        "from google.colab import files\n",
        "\n",
        "# Ganti 'credit_card_fraud_detection_model.pkl' dengan nama model yang sesuai\n",
        "model_filename = 'credit_card_fraud_detection_model123.pkl'\n",
        "\n",
        "# Unduh model ke perangkat lokal\n",
        "files.download(model_filename)\n"
      ],
      "metadata": {
        "id": "B5IWq5n3wnlU"
      },
      "execution_count": null,
      "outputs": []
    }
  ]
}